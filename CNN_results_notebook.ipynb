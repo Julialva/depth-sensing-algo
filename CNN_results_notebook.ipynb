{
  "cells": [
    {
      "cell_type": "markdown",
      "metadata": {
        "id": "Ex3pwIxISdTv"
      },
      "source": [
        "# Aula 15\n",
        "\n",
        "# Exemplo de visão estéreo\n",
        "\n",
        "### Eduardo Lobo Lustosa Cabral\n"
      ]
    },
    {
      "cell_type": "markdown",
      "metadata": {
        "id": "jqphV70y557P"
      },
      "source": [
        "## 1. Objetivos\n",
        "\n",
        "Apresentar a solução de um problema de visão estéreo usando uma RNA.\n",
        "\n",
        "\n"
      ]
    },
    {
      "cell_type": "markdown",
      "metadata": {
        "id": "7JhylFMc557Q"
      },
      "source": [
        "### Importação das principais bibliotecas"
      ]
    },
    {
      "cell_type": "code",
      "execution_count": 1,
      "metadata": {
        "colab": {
          "base_uri": "https://localhost:8080/"
        },
        "id": "xxakUGds557Q",
        "outputId": "dbded2e3-33f5-4369-b285-ebe218487327"
      },
      "outputs": [
        {
          "ename": "ModuleNotFoundError",
          "evalue": "No module named 'cv2'",
          "output_type": "error",
          "traceback": [
            "\u001b[1;31m---------------------------------------------------------------------------\u001b[0m",
            "\u001b[1;31mModuleNotFoundError\u001b[0m                       Traceback (most recent call last)",
            "\u001b[1;32mc:\\Users\\Julio\\OneDrive\\Área de Trabalho\\depth-sensing-algo\\CNN_results_notebook.ipynb Cell 4\u001b[0m in \u001b[0;36m<cell line: 6>\u001b[1;34m()\u001b[0m\n\u001b[0;32m      <a href='vscode-notebook-cell:/c%3A/Users/Julio/OneDrive/%C3%81rea%20de%20Trabalho/depth-sensing-algo/CNN_results_notebook.ipynb#W3sZmlsZQ%3D%3D?line=3'>4</a>\u001b[0m \u001b[39mfrom\u001b[39;00m \u001b[39mglob\u001b[39;00m \u001b[39mimport\u001b[39;00m glob\n\u001b[0;32m      <a href='vscode-notebook-cell:/c%3A/Users/Julio/OneDrive/%C3%81rea%20de%20Trabalho/depth-sensing-algo/CNN_results_notebook.ipynb#W3sZmlsZQ%3D%3D?line=4'>5</a>\u001b[0m \u001b[39mimport\u001b[39;00m \u001b[39mos\u001b[39;00m\n\u001b[1;32m----> <a href='vscode-notebook-cell:/c%3A/Users/Julio/OneDrive/%C3%81rea%20de%20Trabalho/depth-sensing-algo/CNN_results_notebook.ipynb#W3sZmlsZQ%3D%3D?line=5'>6</a>\u001b[0m \u001b[39mfrom\u001b[39;00m \u001b[39mcalibrator\u001b[39;00m \u001b[39mimport\u001b[39;00m calibrate\n\u001b[0;32m      <a href='vscode-notebook-cell:/c%3A/Users/Julio/OneDrive/%C3%81rea%20de%20Trabalho/depth-sensing-algo/CNN_results_notebook.ipynb#W3sZmlsZQ%3D%3D?line=6'>7</a>\u001b[0m \u001b[39mimport\u001b[39;00m \u001b[39mcv2\u001b[39;00m\n\u001b[0;32m      <a href='vscode-notebook-cell:/c%3A/Users/Julio/OneDrive/%C3%81rea%20de%20Trabalho/depth-sensing-algo/CNN_results_notebook.ipynb#W3sZmlsZQ%3D%3D?line=8'>9</a>\u001b[0m \u001b[39mprint\u001b[39m(tf\u001b[39m.\u001b[39m__version__)\n",
            "File \u001b[1;32mc:\\Users\\Julio\\OneDrive\\Área de Trabalho\\depth-sensing-algo\\calibrator.py:2\u001b[0m, in \u001b[0;36m<module>\u001b[1;34m\u001b[0m\n\u001b[0;32m      1\u001b[0m \u001b[39mimport\u001b[39;00m \u001b[39mnumpy\u001b[39;00m \u001b[39mas\u001b[39;00m \u001b[39mnp\u001b[39;00m\n\u001b[1;32m----> 2\u001b[0m \u001b[39mimport\u001b[39;00m \u001b[39mcv2\u001b[39;00m\n\u001b[0;32m      3\u001b[0m \u001b[39mimport\u001b[39;00m \u001b[39mglob\u001b[39;00m\n\u001b[0;32m      4\u001b[0m \u001b[39m#from picture_api.utils.image_utils import show_image\u001b[39;00m\n",
            "\u001b[1;31mModuleNotFoundError\u001b[0m: No module named 'cv2'"
          ]
        }
      ],
      "source": [
        "import numpy as np\n",
        "import matplotlib.pyplot as plt\n",
        "\n",
        "from glob import glob\n",
        "import os\n",
        "from calibrator import calibrate\n",
        "import cv2\n",
        "\n",
        "print(tf.__version__)"
      ]
    },
    {
      "cell_type": "code",
      "execution_count": null,
      "metadata": {
        "id": "TEnaEQCFKo2F"
      },
      "outputs": [
        {
          "ename": "",
          "evalue": "",
          "output_type": "error",
          "traceback": [
            "\u001b[1;31mRunning cells with 'Python 3.9.13 ('depth-sesing-algo-xr3SpKai-py3.9')' requires ipykernel package.\n",
            "\u001b[1;31mRun the following command to install 'ipykernel' into the Python environment. \n",
            "\u001b[1;31mCommand: 'c:/Users/Julio/AppData/Local/pypoetry/Cache/virtualenvs/depth-sesing-algo-xr3SpKai-py3.9/Scripts/python.exe -m pip install ipykernel -U --force-reinstall'"
          ]
        }
      ],
      "source": []
    },
    {
      "cell_type": "markdown",
      "metadata": {
        "_cell_guid": "c3b9f148-1dba-4b6a-981b-6cdbf394fc3c",
        "_uuid": "986488a4c5223576be370e224426a30431911eb2",
        "id": "JdII9pP1SdTy"
      },
      "source": [
        "## 4. Reconstrução"
      ]
    },
    {
      "cell_type": "markdown",
      "metadata": {
        "id": "ZpZP6N90557j"
      },
      "source": [
        "### 4.4 Resultados\n",
        "\n",
        "As células abaixo apresentam os gráficos do processo de treinamento e a avaliação da rede pelo cálculo da função de custo e métrica para os dados de treinamento e validação."
      ]
    },
    {
      "cell_type": "code",
      "execution_count": null,
      "metadata": {
        "colab": {
          "base_uri": "https://localhost:8080/",
          "height": 577
        },
        "id": "OXjzuneuSdTz",
        "outputId": "ba0b3a70-88ba-427d-f34b-881d9bf54735"
      },
      "outputs": [
        {
          "ename": "",
          "evalue": "",
          "output_type": "error",
          "traceback": [
            "\u001b[1;31mRunning cells with 'Python 3.9.13 ('depth-sesing-algo-xr3SpKai-py3.9')' requires ipykernel package.\n",
            "\u001b[1;31mRun the following command to install 'ipykernel' into the Python environment. \n",
            "\u001b[1;31mCommand: 'c:/Users/Julio/AppData/Local/pypoetry/Cache/virtualenvs/depth-sesing-algo-xr3SpKai-py3.9/Scripts/python.exe -m pip install ipykernel -U --force-reinstall'"
          ]
        }
      ],
      "source": [
        "import json\n",
        "with open(\"history.json\", mode='r') as f:\n",
        "    results = json.load(f)\n",
        "\n",
        "# Obtém dicionário com os resultados do treinamento\n",
        "results_dict = results.history\n",
        "\n",
        "# Salva custos, métricas e epocas em vetores \n",
        "custo = results_dict['loss']\n",
        "#rec_mae = results_dict['rec_img_mae']\n",
        "#disp_mae = results_dict['disp_mae']\n",
        "val_custo = results_dict['val_loss']\n",
        "#val_rec_mae = results_dict['val_rec_img_mae']\n",
        "#val_disp_mae = results_dict['val_disp_mae']\n",
        "val_mae = results_dict['val_mae']\n",
        "\n",
        "# Cria vetor de épocas\n",
        "epocas = range(1, len(custo) + 1)\n",
        "\n",
        "# Gráfico dos valores de custo\n",
        "plt.plot(epocas, custo, 'b', label='Custo - treinamento')\n",
        "plt.plot(epocas, val_custo, 'r', label='Custo - validação')\n",
        "plt.title('Valor da função de custo – treinamento e validação')\n",
        "plt.xlabel('Épocas')\n",
        "plt.ylabel('Custo')\n",
        "plt.legend()\n",
        "plt.show()\n",
        "\n",
        "# Gráfico dos valores da métrica\n",
        "#plt.plot(epocas, rec_mae, 'b', label='MAE - treinamento')\n",
        "plt.plot(epocas, val_mae, 'r', label='MAE - validação')\n",
        "plt.title('Valor da métrica de reconstrução – treinamento e validação')\n",
        "plt.xlabel('Épocas')\n",
        "plt.ylabel('REC_MAE')\n",
        "plt.legend()\n",
        "plt.show()\n",
        "\n",
        "# Gráfico dos valores da métrica\n"
      ]
    },
    {
      "cell_type": "code",
      "execution_count": null,
      "metadata": {
        "colab": {
          "base_uri": "https://localhost:8080/"
        },
        "id": "p9O4FYuYCAxw",
        "outputId": "025fef72-0cc1-463c-9dc7-dd9cc74ef34a"
      },
      "outputs": [
        {
          "ename": "",
          "evalue": "",
          "output_type": "error",
          "traceback": [
            "\u001b[1;31mRunning cells with 'Python 3.9.13 ('depth-sesing-algo-xr3SpKai-py3.9')' requires ipykernel package.\n",
            "\u001b[1;31mRun the following command to install 'ipykernel' into the Python environment. \n",
            "\u001b[1;31mCommand: 'c:/Users/Julio/AppData/Local/pypoetry/Cache/virtualenvs/depth-sesing-algo-xr3SpKai-py3.9/Scripts/python.exe -m pip install ipykernel -U --force-reinstall'"
          ]
        }
      ],
      "source": [
        "results_dict.keys()"
      ]
    },
    {
      "cell_type": "code",
      "execution_count": null,
      "metadata": {
        "colab": {
          "base_uri": "https://localhost:8080/"
        },
        "id": "JrSYVjdZSdTz",
        "outputId": "e868b3ef-daa8-4524-f1e2-7de945569800"
      },
      "outputs": [
        {
          "ename": "",
          "evalue": "",
          "output_type": "error",
          "traceback": [
            "\u001b[1;31mRunning cells with 'Python 3.9.13 ('depth-sesing-algo-xr3SpKai-py3.9')' requires ipykernel package.\n",
            "\u001b[1;31mRun the following command to install 'ipykernel' into the Python environment. \n",
            "\u001b[1;31mCommand: 'c:/Users/Julio/AppData/Local/pypoetry/Cache/virtualenvs/depth-sesing-algo-xr3SpKai-py3.9/Scripts/python.exe -m pip install ipykernel -U --force-reinstall'"
          ]
        }
      ],
      "source": [
        "custo_metrica_train = rna_stereo.evaluate(batch_generator(train_left_img_paths, train_right_img_paths, img_size, m_train, batchsize=batch_size), steps=train_steps)\n",
        "custo_metrica_val = rna_stereo.evaluate(batch_generator(val_left_img_paths, val_right_img_paths, img_size, m_val, batchsize=batch_size), steps=val_steps)"
      ]
    },
    {
      "cell_type": "markdown",
      "metadata": {
        "_cell_guid": "1f381f5b-1b71-4daa-a417-e02f4894540b",
        "_uuid": "bb15226ea617cf91ed8f43179fccb5a15809e5a0",
        "id": "feOBeKrTSdTz"
      },
      "source": [
        "## 5. Previsões da rede\n",
        "\n",
        "Vamos verificar se a rede desenvolvida é eficaz em realizar segmentação de imagens. Para isso vamos calcular a sua previsão para alguns exemplos  do conjunto de validação e verificar a qualidade o mapa de disparidade e compará-lo com o mapa de dispatidade real."
      ]
    },
    {
      "cell_type": "code",
      "execution_count": null,
      "metadata": {
        "colab": {
          "base_uri": "https://localhost:8080/",
          "height": 704
        },
        "id": "smrJaqUQSdTz",
        "outputId": "768e5f40-c956-43ae-cc54-777bf71e13fd"
      },
      "outputs": [
        {
          "ename": "",
          "evalue": "",
          "output_type": "error",
          "traceback": [
            "\u001b[1;31mRunning cells with 'Python 3.9.13 ('depth-sesing-algo-xr3SpKai-py3.9')' requires ipykernel package.\n",
            "\u001b[1;31mRun the following command to install 'ipykernel' into the Python environment. \n",
            "\u001b[1;31mCommand: 'c:/Users/Julio/AppData/Local/pypoetry/Cache/virtualenvs/depth-sesing-algo-xr3SpKai-py3.9/Scripts/python.exe -m pip install ipykernel -U --force-reinstall'"
          ]
        }
      ],
      "source": [
        "# Instancia o gerador de dados de validação\n",
        "datagen = batch_generator(val_left_img_paths, val_right_img_paths, img_size, m_val, batchsize=8)\n",
        "\n",
        "# Gera lote de exemplos de valiação\n",
        "[left_img_batch, right_img_batch], [out_img_batch] = next(datagen) \n",
        "\n",
        "# Calcula previsão da rede para o lote de validação gerado\n",
        "img_prev_batch = rna_stereo.predict([left_img_batch, right_img_batch])\n",
        "\n",
        "# Seleciona exemplo para análise\n",
        "index = 6\n",
        "left_img = left_img_batch[index]\n",
        "right_img = right_img_batch[index]\n",
        "img_prev = img_prev_batch[index]\n",
        "#disp_prev = disp_prev_batch[index]\n",
        "\n",
        "# Retira eixos dos exemplos\n",
        "left_img = np.squeeze(left_img)\n",
        "right_img = np.squeeze(right_img)\n",
        "#disp_prev = np.squeeze(disp_prev)\n",
        "\n",
        "# Mostra resultados do exemplos slecionado\n",
        "f, pos = plt.subplots(2, 1, figsize=(12, 12))\n",
        "pos[0].imshow(right_img)\n",
        "pos[1].imshow(img_prev)\n",
        "#pos[1,1].imshow(disp_prev, cmap='gray')\n",
        "plt.show()"
      ]
    },
    {
      "cell_type": "code",
      "execution_count": null,
      "metadata": {
        "colab": {
          "base_uri": "https://localhost:8080/"
        },
        "id": "agh7ei_mMofs",
        "outputId": "6448ec68-549d-4914-8391-b18fd0e2b0ca"
      },
      "outputs": [
        {
          "ename": "",
          "evalue": "",
          "output_type": "error",
          "traceback": [
            "\u001b[1;31mRunning cells with 'Python 3.9.13 ('depth-sesing-algo-xr3SpKai-py3.9')' requires ipykernel package.\n",
            "\u001b[1;31mRun the following command to install 'ipykernel' into the Python environment. \n",
            "\u001b[1;31mCommand: 'c:/Users/Julio/AppData/Local/pypoetry/Cache/virtualenvs/depth-sesing-algo-xr3SpKai-py3.9/Scripts/python.exe -m pip install ipykernel -U --force-reinstall'"
          ]
        }
      ],
      "source": [
        "# Calcula erro de previsão disparidade\n",
        "\n",
        "\n",
        "# Calcula erro de previsão de recosntrução\n",
        "img_batch = np.squeeze(img_prev_batch)\n",
        "erro = np.mean(100*np.mean(np.abs(right_img_batch - img_batch)))/np.mean(right_img_batch)\n",
        "print('Erro absoluto médio percentual recosntrução (%):', erro)"
      ]
    },
    {
      "cell_type": "code",
      "execution_count": null,
      "metadata": {
        "colab": {
          "base_uri": "https://localhost:8080/",
          "height": 670
        },
        "id": "VCDYkdhL88VF",
        "outputId": "53893102-424f-450c-fa9f-cb19530f8958"
      },
      "outputs": [
        {
          "ename": "",
          "evalue": "",
          "output_type": "error",
          "traceback": [
            "\u001b[1;31mRunning cells with 'Python 3.9.13 ('depth-sesing-algo-xr3SpKai-py3.9')' requires ipykernel package.\n",
            "\u001b[1;31mRun the following command to install 'ipykernel' into the Python environment. \n",
            "\u001b[1;31mCommand: 'c:/Users/Julio/AppData/Local/pypoetry/Cache/virtualenvs/depth-sesing-algo-xr3SpKai-py3.9/Scripts/python.exe -m pip install ipykernel -U --force-reinstall'"
          ]
        }
      ],
      "source": [
        "# Seleciona exemplo para análise\n",
        "index = 1\n",
        "left_img = left_img_batch[index]\n",
        "right_img = right_img_batch[index]\n",
        "#disp_prev = disp_prev_batch[index]\n",
        "img_prev = img_prev_batch[index]\n",
        "\n",
        "# Retira eixos dos exemplos\n",
        "left_img = np.squeeze(left_img)\n",
        "right_img = np.squeeze(right_img)\n",
        "#disp_prev = np.squeeze(disp_prev)\n",
        "img_prev = np.squeeze(img_prev)\n",
        "\n",
        "# Mostra resultados do exemplos slecionado\n",
        "f, pos = plt.subplots(2, 2, figsize=(12, 12))\n",
        "pos[0,0].imshow(right_img)\n",
        "pos[0,1].imshow(img_prev)\n",
        "#pos[1,1].imshow(disp_prev, cmap='gray')\n",
        "plt.show()"
      ]
    },
    {
      "cell_type": "code",
      "execution_count": null,
      "metadata": {
        "id": "7jWUpBTeWXMF"
      },
      "outputs": [
        {
          "ename": "",
          "evalue": "",
          "output_type": "error",
          "traceback": [
            "\u001b[1;31mRunning cells with 'Python 3.9.13 ('depth-sesing-algo-xr3SpKai-py3.9')' requires ipykernel package.\n",
            "\u001b[1;31mRun the following command to install 'ipykernel' into the Python environment. \n",
            "\u001b[1;31mCommand: 'c:/Users/Julio/AppData/Local/pypoetry/Cache/virtualenvs/depth-sesing-algo-xr3SpKai-py3.9/Scripts/python.exe -m pip install ipykernel -U --force-reinstall'"
          ]
        }
      ],
      "source": [
        "# Calcula erro de previsão \n",
        "\n",
        "\n",
        "# Apresenta alguns valores das imagens segmentadas\n",
        "print(disp_prev[index,:].astype(int))"
      ]
    },
    {
      "cell_type": "markdown",
      "metadata": {
        "id": "svSR2wo1FPDu"
      },
      "source": [
        "### Teste com imagens diferentes\n",
        "\n",
        "Tem que carregar a imagem."
      ]
    },
    {
      "cell_type": "code",
      "execution_count": null,
      "metadata": {
        "colab": {
          "base_uri": "https://localhost:8080/"
        },
        "id": "26Aj4G6EFPDu",
        "outputId": "22c9e6bd-36f8-4fa4-94fe-85adb12a5e05"
      },
      "outputs": [
        {
          "ename": "",
          "evalue": "",
          "output_type": "error",
          "traceback": [
            "\u001b[1;31mRunning cells with 'Python 3.9.13 ('depth-sesing-algo-xr3SpKai-py3.9')' requires ipykernel package.\n",
            "\u001b[1;31mRun the following command to install 'ipykernel' into the Python environment. \n",
            "\u001b[1;31mCommand: 'c:/Users/Julio/AppData/Local/pypoetry/Cache/virtualenvs/depth-sesing-algo-xr3SpKai-py3.9/Scripts/python.exe -m pip install ipykernel -U --force-reinstall'"
          ]
        }
      ],
      "source": [
        "from keras.preprocessing.image import load_img, img_to_array\n",
        "\n",
        "left_imagem = load_img('/content/left_1661700892724891100.png')\n",
        "right_imagem = load_img('/content/right_1661700892724891100.png')\n",
        "\n",
        "img_left = img_to_array(left_imagem)\n",
        "img_right = img_to_array(right_imagem)\n",
        "\n",
        "print(img_left.shape, img_right.shape)\n",
        "print(np.max(img_left), np.max(img_right))"
      ]
    },
    {
      "cell_type": "code",
      "execution_count": null,
      "metadata": {
        "colab": {
          "base_uri": "https://localhost:8080/"
        },
        "id": "UxMwhQF7FPDu",
        "outputId": "d21a179e-d90e-4ad3-d763-52a22aac80b5"
      },
      "outputs": [
        {
          "ename": "",
          "evalue": "",
          "output_type": "error",
          "traceback": [
            "\u001b[1;31mRunning cells with 'Python 3.9.13 ('depth-sesing-algo-xr3SpKai-py3.9')' requires ipykernel package.\n",
            "\u001b[1;31mRun the following command to install 'ipykernel' into the Python environment. \n",
            "\u001b[1;31mCommand: 'c:/Users/Julio/AppData/Local/pypoetry/Cache/virtualenvs/depth-sesing-algo-xr3SpKai-py3.9/Scripts/python.exe -m pip install ipykernel -U --force-reinstall'"
          ]
        }
      ],
      "source": [
        "img_left = tf.image.resize(img_left, img_size)/255.\n",
        "img_right = tf.image.resize(img_right, img_size)/255.\n",
        "\n",
        "img_left = np.expand_dims(img_left, axis=0)\n",
        "img_right = np.expand_dims(img_right, axis=0)\n",
        "\n",
        "print(np.max(img_left), np.max(img_right))"
      ]
    },
    {
      "cell_type": "code",
      "execution_count": null,
      "metadata": {
        "colab": {
          "base_uri": "https://localhost:8080/",
          "height": 670
        },
        "id": "7MTRQtFGFPDu",
        "outputId": "5599ea46-a9be-4474-e7b9-55642d460378"
      },
      "outputs": [
        {
          "ename": "",
          "evalue": "",
          "output_type": "error",
          "traceback": [
            "\u001b[1;31mRunning cells with 'Python 3.9.13 ('depth-sesing-algo-xr3SpKai-py3.9')' requires ipykernel package.\n",
            "\u001b[1;31mRun the following command to install 'ipykernel' into the Python environment. \n",
            "\u001b[1;31mCommand: 'c:/Users/Julio/AppData/Local/pypoetry/Cache/virtualenvs/depth-sesing-algo-xr3SpKai-py3.9/Scripts/python.exe -m pip install ipykernel -U --force-reinstall'"
          ]
        }
      ],
      "source": [
        "# Mostra resultados do exemplos selecionado\n",
        "img_prev = rna_stereo.predict([img_left, img_right])\n",
        "\n",
        "f, pos = plt.subplots(2, 2, figsize=(12, 12))\n",
        "pos[0,0].imshow(img_right[0])\n",
        "pos[0,1].imshow(img_prev[0])\n",
        "plt.show()"
      ]
    },
    {
      "cell_type": "code",
      "execution_count": null,
      "metadata": {
        "id": "gK1WdTPIFPDu"
      },
      "outputs": [
        {
          "ename": "",
          "evalue": "",
          "output_type": "error",
          "traceback": [
            "\u001b[1;31mRunning cells with 'Python 3.9.13 ('depth-sesing-algo-xr3SpKai-py3.9')' requires ipykernel package.\n",
            "\u001b[1;31mRun the following command to install 'ipykernel' into the Python environment. \n",
            "\u001b[1;31mCommand: 'c:/Users/Julio/AppData/Local/pypoetry/Cache/virtualenvs/depth-sesing-algo-xr3SpKai-py3.9/Scripts/python.exe -m pip install ipykernel -U --force-reinstall'"
          ]
        }
      ],
      "source": [
        "# Calcula erro de previsão \n",
        "\n",
        "\n",
        "# Apresenta alguns valores das imagens segmentadas\n",
        "print(disp_prev[128,:].astype(int))"
      ]
    },
    {
      "cell_type": "code",
      "execution_count": null,
      "metadata": {
        "colab": {
          "base_uri": "https://localhost:8080/"
        },
        "id": "sZpcJBYtb492",
        "outputId": "ba960425-357b-41b2-f209-4f06adfc0044"
      },
      "outputs": [
        {
          "ename": "",
          "evalue": "",
          "output_type": "error",
          "traceback": [
            "\u001b[1;31mRunning cells with 'Python 3.9.13 ('depth-sesing-algo-xr3SpKai-py3.9')' requires ipykernel package.\n",
            "\u001b[1;31mRun the following command to install 'ipykernel' into the Python environment. \n",
            "\u001b[1;31mCommand: 'c:/Users/Julio/AppData/Local/pypoetry/Cache/virtualenvs/depth-sesing-algo-xr3SpKai-py3.9/Scripts/python.exe -m pip install ipykernel -U --force-reinstall'"
          ]
        }
      ],
      "source": [
        "# Calculo do erro de reconstrução\n",
        "erro_rec = np.mean(100*np.abs(img_prev - img_right))/np.mean(img_right)\n",
        "print('Erro absoluto médio percentual (%):', erro_rec)"
      ]
    }
  ],
  "metadata": {
    "accelerator": "GPU",
    "colab": {
      "collapsed_sections": [],
      "machine_shape": "hm",
      "provenance": []
    },
    "gpuClass": "standard",
    "kernelspec": {
      "display_name": "Python 3.9.13 64-bit",
      "language": "python",
      "name": "python3"
    },
    "language_info": {
      "codemirror_mode": {
        "name": "ipython",
        "version": 3
      },
      "file_extension": ".py",
      "mimetype": "text/x-python",
      "name": "python",
      "nbconvert_exporter": "python",
      "pygments_lexer": "ipython3",
      "version": "3.9.13"
    },
    "vscode": {
      "interpreter": {
        "hash": "8e9a847315198e1db6c3e64fe9ef1c8f4cc1666ddba368d2a78c3257c3b63773"
      }
    }
  },
  "nbformat": 4,
  "nbformat_minor": 0
}
